{
  "nbformat": 4,
  "nbformat_minor": 0,
  "metadata": {
    "colab": {
      "name": "Gauss Naive Bayes.ipynb",
      "provenance": [],
      "collapsed_sections": []
    },
    "kernelspec": {
      "name": "python3",
      "display_name": "Python 3"
    }
  },
  "cells": [
    {
      "cell_type": "code",
      "metadata": {
        "id": "Zmh-jArZSdjx",
        "colab": {
          "base_uri": "https://localhost:8080/"
        },
        "outputId": "706a0d12-6c4f-4c75-85f8-94a413cb1b74"
      },
      "source": [
        "\r\n",
        "import numpy as np\r\n",
        "import math\r\n",
        "from sklearn.datasets import load_iris\r\n",
        "from sklearn.model_selection import train_test_split\r\n",
        "from sklearn.naive_bayes import GaussianNB, MultinomialNB\r\n",
        "from sklearn.metrics import accuracy_score\r\n",
        "X, y = load_iris(return_X_y=True)\r\n",
        "X_train, X_test, y_train, y_test = train_test_split(X, y, test_size=0.5, random_state=0)\r\n",
        "print(\"X_train\")\r\n",
        "print(X_train)\r\n",
        "print(\"y_train\")\r\n",
        "print(y_train)\r\n",
        "#'''"
      ],
      "execution_count": 1,
      "outputs": [
        {
          "output_type": "stream",
          "text": [
            "X_train\n",
            "[[4.6 3.1 1.5 0.2]\n",
            " [5.9 3.  5.1 1.8]\n",
            " [5.1 2.5 3.  1.1]\n",
            " [4.6 3.4 1.4 0.3]\n",
            " [6.2 2.2 4.5 1.5]\n",
            " [7.2 3.6 6.1 2.5]\n",
            " [5.7 2.9 4.2 1.3]\n",
            " [4.8 3.  1.4 0.1]\n",
            " [7.1 3.  5.9 2.1]\n",
            " [6.9 3.2 5.7 2.3]\n",
            " [6.5 3.  5.8 2.2]\n",
            " [6.4 2.8 5.6 2.1]\n",
            " [5.1 3.8 1.6 0.2]\n",
            " [4.8 3.4 1.6 0.2]\n",
            " [6.5 3.2 5.1 2. ]\n",
            " [6.7 3.3 5.7 2.1]\n",
            " [4.5 2.3 1.3 0.3]\n",
            " [6.2 3.4 5.4 2.3]\n",
            " [4.9 3.  1.4 0.2]\n",
            " [5.7 2.5 5.  2. ]\n",
            " [6.9 3.1 5.4 2.1]\n",
            " [4.4 3.2 1.3 0.2]\n",
            " [5.  3.6 1.4 0.2]\n",
            " [7.2 3.  5.8 1.6]\n",
            " [5.1 3.5 1.4 0.3]\n",
            " [4.4 3.  1.3 0.2]\n",
            " [5.4 3.9 1.7 0.4]\n",
            " [5.5 2.3 4.  1.3]\n",
            " [6.8 3.2 5.9 2.3]\n",
            " [7.6 3.  6.6 2.1]\n",
            " [5.1 3.5 1.4 0.2]\n",
            " [4.9 3.1 1.5 0.2]\n",
            " [5.2 3.4 1.4 0.2]\n",
            " [5.7 2.8 4.5 1.3]\n",
            " [6.6 3.  4.4 1.4]\n",
            " [5.  3.2 1.2 0.2]\n",
            " [5.1 3.3 1.7 0.5]\n",
            " [6.4 2.9 4.3 1.3]\n",
            " [5.4 3.4 1.5 0.4]\n",
            " [7.7 2.6 6.9 2.3]\n",
            " [4.9 2.4 3.3 1. ]\n",
            " [7.9 3.8 6.4 2. ]\n",
            " [6.7 3.1 4.4 1.4]\n",
            " [5.2 4.1 1.5 0.1]\n",
            " [6.  3.  4.8 1.8]\n",
            " [5.8 4.  1.2 0.2]\n",
            " [7.7 2.8 6.7 2. ]\n",
            " [5.1 3.8 1.5 0.3]\n",
            " [4.7 3.2 1.6 0.2]\n",
            " [7.4 2.8 6.1 1.9]\n",
            " [5.  3.3 1.4 0.2]\n",
            " [6.3 3.4 5.6 2.4]\n",
            " [5.7 2.8 4.1 1.3]\n",
            " [5.8 2.7 3.9 1.2]\n",
            " [5.7 2.6 3.5 1. ]\n",
            " [6.4 3.2 5.3 2.3]\n",
            " [6.7 3.  5.2 2.3]\n",
            " [6.3 2.5 4.9 1.5]\n",
            " [6.7 3.  5.  1.7]\n",
            " [5.  3.  1.6 0.2]\n",
            " [5.5 2.4 3.7 1. ]\n",
            " [6.7 3.1 5.6 2.4]\n",
            " [5.8 2.7 5.1 1.9]\n",
            " [5.1 3.4 1.5 0.2]\n",
            " [6.6 2.9 4.6 1.3]\n",
            " [5.6 3.  4.1 1.3]\n",
            " [5.9 3.2 4.8 1.8]\n",
            " [6.3 2.3 4.4 1.3]\n",
            " [5.5 3.5 1.3 0.2]\n",
            " [5.1 3.7 1.5 0.4]\n",
            " [4.9 3.1 1.5 0.1]\n",
            " [6.3 2.9 5.6 1.8]\n",
            " [5.8 2.7 4.1 1. ]\n",
            " [7.7 3.8 6.7 2.2]\n",
            " [4.6 3.2 1.4 0.2]]\n",
            "y_train\n",
            "[0 2 1 0 1 2 1 0 2 2 2 2 0 0 2 2 0 2 0 2 2 0 0 2 0 0 0 1 2 2 0 0 0 1 1 0 0\n",
            " 1 0 2 1 2 1 0 2 0 2 0 0 2 0 2 1 1 1 2 2 1 1 0 1 2 2 0 1 1 1 1 0 0 0 2 1 2\n",
            " 0]\n"
          ],
          "name": "stdout"
        }
      ]
    },
    {
      "cell_type": "code",
      "metadata": {
        "id": "Yj0s5GMiebHc",
        "colab": {
          "base_uri": "https://localhost:8080/",
          "height": 86
        },
        "outputId": "8fb1da83-2c53-405f-8510-5d16791d16b9"
      },
      "source": [
        "'''\r\n",
        "import numpy as np\r\n",
        "import math\r\n",
        "from sklearn.naive_bayes import MultinomialNB\r\n",
        "from sklearn.naive_bayes import GaussianNB, MultinomialNB\r\n",
        "rng = np.random.RandomState(42)\r\n",
        "nPond = 20\r\n",
        "nFeature = 100\r\n",
        "nTest = 5\r\n",
        "X_train = rng.randint(5, size=(nPond, nFeature))\r\n",
        "y_train = rng.randint(5,size=nPond)\r\n",
        "X_test = rng.randint(3, size=(nTest,nFeature))\r\n",
        "'''"
      ],
      "execution_count": 2,
      "outputs": [
        {
          "output_type": "execute_result",
          "data": {
            "application/vnd.google.colaboratory.intrinsic+json": {
              "type": "string"
            },
            "text/plain": [
              "'\\nimport numpy as np\\nimport math\\nfrom sklearn.naive_bayes import MultinomialNB\\nfrom sklearn.naive_bayes import GaussianNB, MultinomialNB\\nrng = np.random.RandomState(42)\\nnPond = 20\\nnFeature = 100\\nnTest = 5\\nX_train = rng.randint(5, size=(nPond, nFeature))\\ny_train = rng.randint(5,size=nPond)\\nX_test = rng.randint(3, size=(nTest,nFeature))\\n'"
            ]
          },
          "metadata": {
            "tags": []
          },
          "execution_count": 2
        }
      ]
    },
    {
      "cell_type": "code",
      "metadata": {
        "colab": {
          "base_uri": "https://localhost:8080/"
        },
        "id": "MSKCTNnNUUTX",
        "outputId": "19bc3257-bc0f-4099-c1a5-34838056ba51"
      },
      "source": [
        "print(\"Class and count: \")\r\n",
        "Class,Count = np.unique(y_train, return_counts = True)\r\n",
        "print(Class)\r\n",
        "print(Count)"
      ],
      "execution_count": 3,
      "outputs": [
        {
          "output_type": "stream",
          "text": [
            "Class and count: \n",
            "[0 1 2]\n",
            "[29 20 26]\n"
          ],
          "name": "stdout"
        }
      ]
    },
    {
      "cell_type": "code",
      "metadata": {
        "id": "IdUsDmMtc9Zs"
      },
      "source": [
        "'''\r\n",
        "function: GaussCalc\r\n",
        "Purpose: Calculation log P(value of feature kth|class) by gauss\r\n",
        "Input:\r\n",
        "  - X: train set data\r\n",
        "  - y: train set class\r\n",
        "  - Class: array of name class\r\n",
        "  - k: feature kth\r\n",
        "  - value: value to calculation\r\n",
        "  - c: index class in Class array\r\n",
        "Output: Result log P(value of feature kth|class) by gauss\r\n",
        "'''\r\n",
        "def GaussCalc(X,y,Class,k,value,c):\r\n",
        "  #Get feature of class Class[c]\r\n",
        "  feature_c = []\r\n",
        "  for i in range(X_train.shape[0]):\r\n",
        "    if (y[i] == Class[c]):\r\n",
        "      feature_c.append(X_train[i][k]);\r\n",
        "  #print(feature_c)\r\n",
        "  # Calculation EX and VAR\r\n",
        "  EX = 0\r\n",
        "  EX2 = 0\r\n",
        "  VAR = 0\r\n",
        "  for i in range(len(feature_c)):\r\n",
        "    EX = EX + feature_c[i]\r\n",
        "    EX2 = EX2 + pow(feature_c[i],2)\r\n",
        "  EX = EX / len(feature_c)\r\n",
        "  EX2 = EX2 / len(feature_c)\r\n",
        "  VAR = EX2-pow(EX,2)\r\n",
        "  if (VAR==0):\r\n",
        "    VAR = 1e-9\r\n",
        "  #print(EX)\r\n",
        "  #print(VAR)\r\n",
        "  #print(value)\r\n",
        "  # caculation result\r\n",
        "  res = -math.log(math.sqrt(2*math.pi*VAR))-pow(value-EX,2)/(2*VAR)\r\n",
        "  return res"
      ],
      "execution_count": 4,
      "outputs": []
    },
    {
      "cell_type": "code",
      "metadata": {
        "id": "rC2Z_5OpVXwD"
      },
      "source": [
        "y_pred = []\r\n",
        "for i in range(len(X_test)):\r\n",
        "  max_value_C = -100000000\r\n",
        "  max_position = -1\r\n",
        "  for j in range(len(Class)): # c = Class[i]\r\n",
        "    # tinh argmax p(c|X_test[i]) = argmax p(X_test[i]|c)*p(c) = argmax ln(p(X_test[i]|c))+argmax(p(c))\r\n",
        "    p_c = math.log(Count[j]/len(y_train))\r\n",
        "    #tinh argmax p(X_test[i]|c) = argmax product(p(X_test[i][j]|c)) = argmax sum ln(p(X_test[i][j]|c))\r\n",
        "    product = 0;\r\n",
        "    for k in range(X_train.shape[1]):\r\n",
        "      product = product + GaussCalc(X_train,y_train,Class,k,X_test[i][k],j)\r\n",
        "    value_C = p_c+product\r\n",
        "    if (value_C> max_value_C):\r\n",
        "      max_value_C = value_C\r\n",
        "      max_position = j\r\n",
        "  y_pred.append(Class[max_position])"
      ],
      "execution_count": 5,
      "outputs": []
    },
    {
      "cell_type": "code",
      "metadata": {
        "colab": {
          "base_uri": "https://localhost:8080/"
        },
        "id": "Eacbgq-Ak9YX",
        "outputId": "8168da62-1ca4-45c8-cea7-74db9ae0c1b8"
      },
      "source": [
        "print(\"Self Build model:\")\r\n",
        "print(y_pred)\r\n",
        "#print(accuracy_score(y_test,y_pred))"
      ],
      "execution_count": 6,
      "outputs": [
        {
          "output_type": "stream",
          "text": [
            "Self Build model:\n",
            "[2, 1, 0, 2, 0, 2, 0, 1, 1, 1, 1, 1, 1, 1, 1, 0, 1, 1, 0, 0, 2, 1, 0, 0, 2, 0, 0, 1, 1, 0, 2, 1, 0, 2, 2, 1, 0, 1, 1, 1, 2, 0, 2, 0, 0, 1, 2, 2, 1, 2, 1, 2, 1, 1, 2, 1, 1, 2, 1, 2, 1, 0, 2, 1, 1, 1, 1, 2, 0, 0, 2, 1, 0, 0, 1]\n"
          ],
          "name": "stdout"
        }
      ]
    },
    {
      "cell_type": "code",
      "metadata": {
        "colab": {
          "base_uri": "https://localhost:8080/"
        },
        "id": "KTmosX46mLjk",
        "outputId": "15714501-8e53-4ee1-c70f-11f17c2f6521"
      },
      "source": [
        "print(\"Sklearn GaussianNB:\")\r\n",
        "gnb = GaussianNB()\r\n",
        "y_pred = gnb.fit(X_train, y_train).predict(X_test)\r\n",
        "print(y_pred)\r\n",
        "#print(accuracy_score(y_test,y_pred))"
      ],
      "execution_count": 7,
      "outputs": [
        {
          "output_type": "stream",
          "text": [
            "Sklearn GaussianNB:\n",
            "[2 1 0 2 0 2 0 1 1 1 1 1 1 1 1 0 1 1 0 0 2 1 0 0 2 0 0 1 1 0 2 1 0 2 2 1 0\n",
            " 1 1 1 2 0 2 0 0 1 2 2 1 2 1 2 1 1 2 1 1 2 1 2 1 0 2 1 1 1 1 2 0 0 2 1 0 0\n",
            " 1]\n"
          ],
          "name": "stdout"
        }
      ]
    },
    {
      "cell_type": "code",
      "metadata": {
        "id": "qX9EssBAfMNj"
      },
      "source": [
        ""
      ],
      "execution_count": 7,
      "outputs": []
    }
  ]
}
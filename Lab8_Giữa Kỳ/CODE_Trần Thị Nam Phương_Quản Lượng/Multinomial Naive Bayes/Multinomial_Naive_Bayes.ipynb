{
  "nbformat": 4,
  "nbformat_minor": 0,
  "metadata": {
    "colab": {
      "name": "Copy of Multinomial Naive Bayes.ipynb",
      "provenance": [],
      "collapsed_sections": []
    },
    "kernelspec": {
      "name": "python3",
      "display_name": "Python 3"
    }
  },
  "cells": [
    {
      "cell_type": "code",
      "metadata": {
        "id": "5oNH94C-xNPY",
        "colab": {
          "base_uri": "https://localhost:8080/"
        },
        "outputId": "de6f32a0-1868-4925-db0c-f1147b250f69"
      },
      "source": [
        "import numpy as np\r\n",
        "import pandas as pd\r\n",
        "import math\r\n",
        "from sklearn.feature_extraction.text import CountVectorizer\r\n",
        "from sklearn.naive_bayes import MultinomialNB\r\n",
        "from sklearn.metrics import accuracy_score\r\n",
        "rng = np.random.RandomState(42)\r\n",
        "rng = np.random.RandomState(1)\r\n",
        "X_train = rng.randint(5, size=(6, 100))\r\n",
        "y_train = np.array([1, 2, 3, 4, 5, 6])\r\n",
        "X_test = X_train[2:3]\r\n",
        "print(\"X_train\")\r\n",
        "print(X_train)\r\n",
        "print(\"y_train\")\r\n",
        "print(y_train)"
      ],
      "execution_count": 1,
      "outputs": [
        {
          "output_type": "stream",
          "text": [
            "X_train\n",
            "[[3 4 0 1 3 0 0 1 4 4 1 2 4 2 4 3 4 2 4 2 4 1 1 0 1 1 1 1 0 4 1 0 0 3 2 1\n",
            "  0 3 1 1 3 4 0 1 3 4 2 4 0 3 1 2 0 4 1 2 2 1 0 1 3 4 3 1 3 0 0 2 2 1 3 4\n",
            "  2 0 0 1 1 3 0 0 4 2 4 3 3 0 3 4 3 4 4 4 1 0 4 2 0 2 4 1]\n",
            " [1 0 2 4 4 0 4 1 4 1 0 2 3 1 2 4 4 2 2 0 1 2 2 0 1 2 4 0 1 2 1 4 2 0 0 1\n",
            "  0 1 3 1 1 4 4 3 0 3 0 3 1 2 4 0 0 3 1 1 0 0 4 2 3 4 2 0 3 3 1 2 4 3 0 0\n",
            "  4 2 4 2 0 3 0 0 4 2 1 0 4 3 0 1 2 4 4 3 3 3 3 2 3 3 4 3]\n",
            " [2 4 4 0 3 3 0 3 1 0 2 2 2 0 2 1 4 0 4 4 1 3 1 4 1 2 1 0 0 2 4 1 0 0 3 1\n",
            "  0 4 3 2 3 4 4 3 0 0 0 4 1 4 1 2 2 4 3 4 4 0 3 2 4 3 4 2 3 0 2 1 3 2 0 1\n",
            "  4 1 3 3 1 2 0 2 4 0 2 4 3 4 3 0 4 2 2 4 1 2 1 1 1 0 4 4]\n",
            " [2 2 3 1 4 0 0 3 2 4 1 3 1 1 2 4 0 3 0 4 2 3 1 1 4 4 0 2 1 3 0 1 0 2 2 4\n",
            "  3 2 2 2 0 2 0 4 1 0 2 3 0 4 3 3 3 0 3 1 2 0 1 4 2 3 4 4 2 1 2 0 3 3 2 0\n",
            "  0 0 0 2 4 0 4 1 2 1 2 4 1 3 1 1 2 4 1 0 2 1 2 0 0 3 4 1]\n",
            " [0 4 0 3 2 4 3 2 4 2 4 0 0 4 2 2 4 2 3 0 0 4 3 4 3 3 4 0 3 1 4 4 3 2 2 2\n",
            "  2 2 0 2 1 2 3 0 0 1 1 3 3 3 1 3 3 3 1 3 0 4 0 2 4 4 2 0 3 2 4 0 4 2 3 4\n",
            "  2 4 1 3 4 3 0 3 0 4 3 0 3 1 4 4 2 2 4 2 1 2 3 1 3 3 0 4]\n",
            " [3 3 3 3 0 2 3 1 3 2 3 2 2 0 4 0 1 3 0 0 0 1 2 4 4 2 0 1 0 0 2 4 3 0 2 1\n",
            "  3 3 1 4 4 4 0 1 0 1 2 2 4 2 4 0 2 4 4 1 1 1 1 4 3 4 1 1 1 2 4 3 2 3 3 2\n",
            "  3 0 2 0 1 0 0 3 4 0 0 0 0 1 0 1 3 3 4 0 1 0 3 2 1 1 0 0]]\n",
            "y_train\n",
            "[1 2 3 4 5 6]\n"
          ],
          "name": "stdout"
        }
      ]
    },
    {
      "cell_type": "code",
      "metadata": {
        "colab": {
          "base_uri": "https://localhost:8080/"
        },
        "id": "3jyhI3SEystG",
        "outputId": "e63fc1bd-e3cb-49cc-a269-d9c3646d8718"
      },
      "source": [
        "print(\"Class and count: \")\r\n",
        "Class,Count = np.unique(y_train, return_counts = True)\r\n",
        "print(Class)\r\n",
        "print(Count)"
      ],
      "execution_count": 2,
      "outputs": [
        {
          "output_type": "stream",
          "text": [
            "Class and count: \n",
            "[1 2 3 4 5 6]\n",
            "[1 1 1 1 1 1]\n"
          ],
          "name": "stdout"
        }
      ]
    },
    {
      "cell_type": "code",
      "metadata": {
        "id": "erA9H0-MsCy_"
      },
      "source": [
        "'''\r\n",
        "function: MultinomialCalc\r\n",
        "Purpose: Calculation log P(value of feature kth|class) by Multinomial\r\n",
        "Input:\r\n",
        "  - X: train set data\r\n",
        "  - y: train set class\r\n",
        "  - Class: array of name class\r\n",
        "  - k: feature kth\r\n",
        "  - value: value to calculation\r\n",
        "  - c: index class in Class array\r\n",
        "  - alpha: smoothing prior\r\n",
        "Output: Result log P(value of feature kth|class) by Multinomial\r\n",
        "'''\r\n",
        "def MultinomialCalc(X,y,feature_c,value,alpha):\r\n",
        "  nFeature = 0\r\n",
        "  for i in range(len(feature_c)):\r\n",
        "    if (feature_c[i] == value):\r\n",
        "      nFeature = nFeature + 1\r\n",
        "  # caculation result\r\n",
        "  res = math.log(nFeature+alpha) - math.log(len(feature_c)+alpha*X.shape[1])\r\n",
        "  return res"
      ],
      "execution_count": 3,
      "outputs": []
    },
    {
      "cell_type": "code",
      "metadata": {
        "id": "_oInjN0Z_nJ0"
      },
      "source": [
        "def compare(a,b):\r\n",
        "  #if (a.isin)\r\n",
        "  return a==b"
      ],
      "execution_count": 4,
      "outputs": []
    },
    {
      "cell_type": "code",
      "metadata": {
        "id": "o7qwEm_vTIiJ"
      },
      "source": [
        "feature = []\r\n",
        "for c in range(Class.shape[0]):\r\n",
        "  feature_class = []\r\n",
        "  for j in range(X_train.shape[1]):\r\n",
        "    feature_col = []\r\n",
        "    for i in range(X_train.shape[0]):\r\n",
        "      if (y_train[i] == Class[c]):\r\n",
        "        feature_col.append(X_train[i][j]);\r\n",
        "    feature_class.append(feature_col)\r\n",
        "  feature.append(feature_class)"
      ],
      "execution_count": 5,
      "outputs": []
    },
    {
      "cell_type": "code",
      "metadata": {
        "id": "rC15U6T5yxlb"
      },
      "source": [
        "y_pred = []\r\n",
        "for i in range(X_test.shape[0]):\r\n",
        "  max_value_C = -100000000\r\n",
        "  max_position = -1\r\n",
        "  for j in range(len(Class)): # c = Class[i]\r\n",
        "    # tinh argmax p(c|X_test[i]) = argmax p(X_test[i]|c)*p(c) = argmax ln(p(X_test[i]|c))+argmax(p(c))\r\n",
        "    p_c = math.log(Count[j]/len(y_train))\r\n",
        "    #tinh argmax p(X_test[i]|c) = argmax product(p(X_test[i][j]|c)) = argmax sum ln(p(X_test[i][j]|c))\r\n",
        "    product = 0;\r\n",
        "    for k in range(X_train.shape[1]):\r\n",
        "      product = product + MultinomialCalc(X_train,y_train,feature[j][k],X_test[i][k],1)\r\n",
        "    value_C = p_c+product\r\n",
        "    if (value_C> max_value_C):\r\n",
        "      max_value_C = value_C\r\n",
        "      max_position = j\r\n",
        "  y_pred.append(Class[max_position])"
      ],
      "execution_count": 6,
      "outputs": []
    },
    {
      "cell_type": "code",
      "metadata": {
        "id": "c07UGsVlyzCU",
        "colab": {
          "base_uri": "https://localhost:8080/"
        },
        "outputId": "6d7981aa-cc18-4c3c-dd8b-978470151805"
      },
      "source": [
        "print(\"Self Build Model:\")\r\n",
        "print(y_pred)"
      ],
      "execution_count": 7,
      "outputs": [
        {
          "output_type": "stream",
          "text": [
            "Self Build Model:\n",
            "[3]\n"
          ],
          "name": "stdout"
        }
      ]
    },
    {
      "cell_type": "code",
      "metadata": {
        "id": "igkx_Puuy0_N",
        "colab": {
          "base_uri": "https://localhost:8080/"
        },
        "outputId": "baecc5f1-6962-4a90-b4ba-e8879f200efe"
      },
      "source": [
        "print(\"MultinomialNB sklearn:\")\r\n",
        "clf = MultinomialNB()\r\n",
        "clf.fit(X_train, y_train)\r\n",
        "y_pred = clf.predict(X_test)\r\n",
        "print(y_pred)"
      ],
      "execution_count": 8,
      "outputs": [
        {
          "output_type": "stream",
          "text": [
            "MultinomialNB sklearn:\n",
            "[3]\n"
          ],
          "name": "stdout"
        }
      ]
    }
  ]
}